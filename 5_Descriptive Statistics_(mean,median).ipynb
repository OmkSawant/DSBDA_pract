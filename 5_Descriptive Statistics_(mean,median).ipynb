{
 "cells": [
  {
   "cell_type": "code",
   "execution_count": 28,
   "id": "fd1c5862-c649-4f9c-86d4-1fa19e284d23",
   "metadata": {},
   "outputs": [],
   "source": [
    "import pandas as pd\n",
    "import matplotlib.pyplot as plt\n",
    "import seaborn as sns"
   ]
  },
  {
   "cell_type": "code",
   "execution_count": 32,
   "id": "b7085a91-18d9-40cc-83c9-2c22df253f38",
   "metadata": {},
   "outputs": [],
   "source": [
    "df = pd.read_csv(\"3_employees.csv\")"
   ]
  },
  {
   "cell_type": "code",
   "execution_count": 34,
   "id": "43c926e5-aba8-4898-98a8-71ba4afd1b4d",
   "metadata": {},
   "outputs": [
    {
     "data": {
      "text/html": [
       "<div>\n",
       "<style scoped>\n",
       "    .dataframe tbody tr th:only-of-type {\n",
       "        vertical-align: middle;\n",
       "    }\n",
       "\n",
       "    .dataframe tbody tr th {\n",
       "        vertical-align: top;\n",
       "    }\n",
       "\n",
       "    .dataframe thead th {\n",
       "        text-align: right;\n",
       "    }\n",
       "</style>\n",
       "<table border=\"1\" class=\"dataframe\">\n",
       "  <thead>\n",
       "    <tr style=\"text-align: right;\">\n",
       "      <th></th>\n",
       "      <th>EMPLOYEE_ID</th>\n",
       "      <th>FIRST_NAME</th>\n",
       "      <th>LAST_NAME</th>\n",
       "      <th>EMAIL</th>\n",
       "      <th>PHONE_NUMBER</th>\n",
       "      <th>HIRE_DATE</th>\n",
       "      <th>JOB_ID</th>\n",
       "      <th>SALARY</th>\n",
       "      <th>COMMISSION_PCT</th>\n",
       "      <th>MANAGER_ID</th>\n",
       "      <th>DEPARTMENT_ID</th>\n",
       "    </tr>\n",
       "  </thead>\n",
       "  <tbody>\n",
       "    <tr>\n",
       "      <th>0</th>\n",
       "      <td>198</td>\n",
       "      <td>Donald</td>\n",
       "      <td>OConnell</td>\n",
       "      <td>DOCONNEL</td>\n",
       "      <td>650.507.9833</td>\n",
       "      <td>21-JUN-07</td>\n",
       "      <td>SH_CLERK</td>\n",
       "      <td>2600</td>\n",
       "      <td>-</td>\n",
       "      <td>124</td>\n",
       "      <td>50</td>\n",
       "    </tr>\n",
       "    <tr>\n",
       "      <th>1</th>\n",
       "      <td>199</td>\n",
       "      <td>Douglas</td>\n",
       "      <td>Grant</td>\n",
       "      <td>DGRANT</td>\n",
       "      <td>650.507.9844</td>\n",
       "      <td>13-JAN-08</td>\n",
       "      <td>SH_CLERK</td>\n",
       "      <td>2600</td>\n",
       "      <td>-</td>\n",
       "      <td>124</td>\n",
       "      <td>50</td>\n",
       "    </tr>\n",
       "    <tr>\n",
       "      <th>2</th>\n",
       "      <td>200</td>\n",
       "      <td>Jennifer</td>\n",
       "      <td>Whalen</td>\n",
       "      <td>JWHALEN</td>\n",
       "      <td>515.123.4444</td>\n",
       "      <td>17-SEP-03</td>\n",
       "      <td>AD_ASST</td>\n",
       "      <td>4400</td>\n",
       "      <td>-</td>\n",
       "      <td>101</td>\n",
       "      <td>10</td>\n",
       "    </tr>\n",
       "    <tr>\n",
       "      <th>3</th>\n",
       "      <td>201</td>\n",
       "      <td>Michael</td>\n",
       "      <td>Hartstein</td>\n",
       "      <td>MHARTSTE</td>\n",
       "      <td>515.123.5555</td>\n",
       "      <td>17-FEB-04</td>\n",
       "      <td>MK_MAN</td>\n",
       "      <td>13000</td>\n",
       "      <td>-</td>\n",
       "      <td>100</td>\n",
       "      <td>20</td>\n",
       "    </tr>\n",
       "    <tr>\n",
       "      <th>4</th>\n",
       "      <td>202</td>\n",
       "      <td>Pat</td>\n",
       "      <td>Fay</td>\n",
       "      <td>PFAY</td>\n",
       "      <td>603.123.6666</td>\n",
       "      <td>17-AUG-05</td>\n",
       "      <td>MK_REP</td>\n",
       "      <td>6000</td>\n",
       "      <td>-</td>\n",
       "      <td>201</td>\n",
       "      <td>20</td>\n",
       "    </tr>\n",
       "  </tbody>\n",
       "</table>\n",
       "</div>"
      ],
      "text/plain": [
       "   EMPLOYEE_ID FIRST_NAME  LAST_NAME     EMAIL  PHONE_NUMBER  HIRE_DATE  \\\n",
       "0          198     Donald   OConnell  DOCONNEL  650.507.9833  21-JUN-07   \n",
       "1          199    Douglas      Grant    DGRANT  650.507.9844  13-JAN-08   \n",
       "2          200   Jennifer     Whalen   JWHALEN  515.123.4444  17-SEP-03   \n",
       "3          201    Michael  Hartstein  MHARTSTE  515.123.5555  17-FEB-04   \n",
       "4          202        Pat        Fay      PFAY  603.123.6666  17-AUG-05   \n",
       "\n",
       "     JOB_ID  SALARY COMMISSION_PCT MANAGER_ID  DEPARTMENT_ID  \n",
       "0  SH_CLERK    2600             -         124             50  \n",
       "1  SH_CLERK    2600             -         124             50  \n",
       "2   AD_ASST    4400             -         101             10  \n",
       "3    MK_MAN   13000             -         100             20  \n",
       "4    MK_REP    6000             -         201             20  "
      ]
     },
     "execution_count": 34,
     "metadata": {},
     "output_type": "execute_result"
    }
   ],
   "source": [
    "df.head()"
   ]
  },
  {
   "cell_type": "code",
   "execution_count": 36,
   "id": "7bded338-ea3a-4742-a6fd-cc8d0e8593fa",
   "metadata": {},
   "outputs": [
    {
     "name": "stdout",
     "output_type": "stream",
     "text": [
      "Summary Statistics for SALARY:\n",
      "          SALARY\n",
      "mean    6182.32\n",
      "median  4600.00\n",
      "min     2100.00\n"
     ]
    }
   ],
   "source": [
    "#1.Summary Statistics (Mean, Median, Min) for Numeric Columns\n",
    "summary_stats = df[['SALARY']].agg(['mean', 'median', 'min'])\n",
    "print(\"Summary Statistics for SALARY:\\n\", summary_stats)"
   ]
  },
  {
   "cell_type": "code",
   "execution_count": 49,
   "id": "f094c8d0-f8fd-4dae-ac8f-dc4236c17242",
   "metadata": {},
   "outputs": [
    {
     "name": "stdout",
     "output_type": "stream",
     "text": [
      "\n",
      "--- Grouped Summary by DEPARTMENT_ID ---\n",
      "               count          mean          std      min      25%      50%  \\\n",
      "DEPARTMENT_ID                                                                \n",
      "10               1.0   4400.000000          NaN   4400.0   4400.0   4400.0   \n",
      "20               2.0   9500.000000  4949.747468   6000.0   7750.0   9500.0   \n",
      "30               6.0   4150.000000  3362.588289   2500.0   2650.0   2850.0   \n",
      "40               1.0   6500.000000          NaN   6500.0   6500.0   6500.0   \n",
      "50              23.0   3721.739130  2007.249706   2100.0   2500.0   2800.0   \n",
      "60               5.0   5760.000000  1925.616784   4200.0   4800.0   4800.0   \n",
      "70               1.0  10000.000000          NaN  10000.0  10000.0  10000.0   \n",
      "90               3.0  19333.333333  4041.451884  17000.0  17000.0  17000.0   \n",
      "100              6.0   8601.333333  1804.131555   6900.0   7725.0   8000.0   \n",
      "110              2.0  10154.000000  2621.951945   8300.0   9227.0  10154.0   \n",
      "\n",
      "                   75%      max  \n",
      "DEPARTMENT_ID                    \n",
      "10              4400.0   4400.0  \n",
      "20             11250.0  13000.0  \n",
      "30              3050.0  11000.0  \n",
      "40              6500.0   6500.0  \n",
      "50              3450.0   8200.0  \n",
      "60              6000.0   9000.0  \n",
      "70             10000.0  10000.0  \n",
      "90             20500.0  24000.0  \n",
      "100             8800.0  12008.0  \n",
      "110            11081.0  12008.0  \n",
      "\n",
      "--- Salary Lists by DEPARTMENT_ID ---\n",
      "DEPARTMENT_ID\n",
      "10                                                [4400]\n",
      "20                                         [13000, 6000]\n",
      "30                 [11000, 3100, 2900, 2800, 2600, 2500]\n",
      "40                                                [6500]\n",
      "50     [2600, 2600, 8000, 8200, 7900, 6500, 5800, 320...\n",
      "60                        [9000, 6000, 4800, 4800, 4200]\n",
      "70                                               [10000]\n",
      "90                                 [24000, 17000, 17000]\n",
      "100                [12008, 9000, 8200, 7700, 7800, 6900]\n",
      "110                                        [12008, 8300]\n",
      "Name: SALARY, dtype: object\n"
     ]
    }
   ],
   "source": [
    "print(\"\\n--- Grouped Summary by DEPARTMENT_ID ---\")\n",
    "grouped_salary = df.groupby('DEPARTMENT_ID')['SALARY'].describe()\n",
    "print(grouped_salary)\n",
    "\n",
    "# Numeric list of salary values for each DEPARTMENT_ID\n",
    "print(\"\\n--- Salary Lists by DEPARTMENT_ID ---\")\n",
    "grouped_salary_lists = df.groupby('DEPARTMENT_ID')['SALARY'].apply(list)\n",
    "print(grouped_salary_lists)"
   ]
  },
  {
   "cell_type": "code",
   "execution_count": 51,
   "id": "79d6d837-2086-4e66-84a2-4a02d7f1a638",
   "metadata": {},
   "outputs": [
    {
     "name": "stdout",
     "output_type": "stream",
     "text": [
      "\n",
      "Employee Count by JOB_ID:\n",
      " JOB_ID\n",
      "ST_CLERK      16\n",
      "ST_MAN         5\n",
      "PU_CLERK       5\n",
      "FI_ACCOUNT     5\n",
      "IT_PROG        5\n",
      "AD_VP          2\n",
      "SH_CLERK       2\n",
      "AC_ACCOUNT     1\n",
      "AD_ASST        1\n",
      "AC_MGR         1\n",
      "PR_REP         1\n",
      "FI_MGR         1\n",
      "HR_REP         1\n",
      "PU_MAN         1\n",
      "MK_REP         1\n",
      "MK_MAN         1\n",
      "AD_PRES        1\n",
      "Name: count, dtype: int64\n"
     ]
    }
   ],
   "source": [
    "#3.Grouping by JOB_ID and Count\n",
    "job_counts = df['JOB_ID'].value_counts()\n",
    "print(\"\\nEmployee Count by JOB_ID:\\n\", job_counts)"
   ]
  },
  {
   "cell_type": "code",
   "execution_count": 53,
   "id": "769d496e-025d-491b-b1b6-be0fab0089ca",
   "metadata": {},
   "outputs": [
    {
     "data": {
      "image/png": "[encoded data removed]",
      "text/plain": [
       "<Figure size 800x500 with 1 Axes>"
      ]
     },
     "metadata": {},
     "output_type": "display_data"
    }
   ],
   "source": [
    "#4. Data Visualization for SALARY\n",
    "plt.figure(figsize=(8, 5))\n",
    "plt.hist(df['SALARY'], bins=10, color='skyblue', edgecolor='black')\n",
    "plt.title('Salary Distribution')\n",
    "plt.xlabel('Salary')\n",
    "plt.ylabel('Frequency')\n",
    "plt.grid(True)\n",
    "plt.show()"
   ]
  }
 ],
 "metadata": {
  "kernelspec": {
   "display_name": "Python [conda env:base] *",
   "language": "python",
   "name": "conda-base-py"
  },
  "language_info": {
   "codemirror_mode": {
    "name": "ipython",
    "version": 3
   },
   "file_extension": ".py",
   "mimetype": "text/x-python",
   "name": "python",
   "nbconvert_exporter": "python",
   "pygments_lexer": "ipython3",
   "version": "3.12.7"
  }
 },
 "nbformat": 4,
 "nbformat_minor": 5
}
