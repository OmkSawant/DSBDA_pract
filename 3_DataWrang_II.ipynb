{
 "cells": [
  {
   "cell_type": "code",
   "execution_count": 2,
   "id": "7c965ac2-47bc-4545-b16e-8df340a35eae",
   "metadata": {},
   "outputs": [],
   "source": [
    "import pandas as pd\n",
    "import numpy as np\n",
    "from scipy.stats import zscore\n",
    "import seaborn as sns\n",
    "import matplotlib.pyplot as plt"
   ]
  },
  {
   "cell_type": "code",
   "execution_count": 4,
   "id": "d2cb5b1d-05bf-4ec4-8522-3bceee29b1fa",
   "metadata": {},
   "outputs": [],
   "source": [
    "df = pd.read_csv(\"AcademicPerformance_New.csv\")"
   ]
  },
  {
   "cell_type": "code",
   "execution_count": 12,
   "id": "58b7ae33-56c2-485c-b383-b7c9f9f777a4",
   "metadata": {},
   "outputs": [
    {
     "name": "stdout",
     "output_type": "stream",
     "text": [
      "<class 'pandas.core.frame.DataFrame'>\n",
      "RangeIndex: 99 entries, 0 to 98\n",
      "Data columns (total 8 columns):\n",
      " #   Column       Non-Null Count  Dtype  \n",
      "---  ------       --------------  -----  \n",
      " 0   Roll No      99 non-null     float64\n",
      " 1   NationalITy  99 non-null     object \n",
      " 2   WT           99 non-null     float64\n",
      " 3   DSBDA        99 non-null     float64\n",
      " 4   AI           99 non-null     float64\n",
      " 5   Average      99 non-null     float64\n",
      " 6   Grade        99 non-null     object \n",
      " 7   PG           99 non-null     object \n",
      "dtypes: float64(5), object(3)\n",
      "memory usage: 6.3+ KB\n"
     ]
    }
   ],
   "source": [
    "df.info()"
   ]
  },
  {
   "cell_type": "code",
   "execution_count": 14,
   "id": "2cd91f8b-25ee-4247-9c80-8d40bb4a46d8",
   "metadata": {},
   "outputs": [
    {
     "data": {
      "text/html": [
       "<div>\n",
       "<style scoped>\n",
       "    .dataframe tbody tr th:only-of-type {\n",
       "        vertical-align: middle;\n",
       "    }\n",
       "\n",
       "    .dataframe tbody tr th {\n",
       "        vertical-align: top;\n",
       "    }\n",
       "\n",
       "    .dataframe thead th {\n",
       "        text-align: right;\n",
       "    }\n",
       "</style>\n",
       "<table border=\"1\" class=\"dataframe\">\n",
       "  <thead>\n",
       "    <tr style=\"text-align: right;\">\n",
       "      <th></th>\n",
       "      <th>Roll No</th>\n",
       "      <th>NationalITy</th>\n",
       "      <th>WT</th>\n",
       "      <th>DSBDA</th>\n",
       "      <th>AI</th>\n",
       "      <th>Average</th>\n",
       "      <th>Grade</th>\n",
       "      <th>PG</th>\n",
       "    </tr>\n",
       "  </thead>\n",
       "  <tbody>\n",
       "    <tr>\n",
       "      <th>0</th>\n",
       "      <td>1.000000</td>\n",
       "      <td>India</td>\n",
       "      <td>72.000000</td>\n",
       "      <td>72.000000</td>\n",
       "      <td>74.000000</td>\n",
       "      <td>72.666667</td>\n",
       "      <td>C</td>\n",
       "      <td>Yes</td>\n",
       "    </tr>\n",
       "    <tr>\n",
       "      <th>1</th>\n",
       "      <td>2.000000</td>\n",
       "      <td>Japan</td>\n",
       "      <td>69.000000</td>\n",
       "      <td>90.000000</td>\n",
       "      <td>62.235955</td>\n",
       "      <td>53.000000</td>\n",
       "      <td>B</td>\n",
       "      <td>No</td>\n",
       "    </tr>\n",
       "    <tr>\n",
       "      <th>2</th>\n",
       "      <td>50.479592</td>\n",
       "      <td>USA</td>\n",
       "      <td>61.164835</td>\n",
       "      <td>64.652632</td>\n",
       "      <td>62.235955</td>\n",
       "      <td>58.663265</td>\n",
       "      <td>D</td>\n",
       "      <td>No</td>\n",
       "    </tr>\n",
       "    <tr>\n",
       "      <th>3</th>\n",
       "      <td>4.000000</td>\n",
       "      <td>China</td>\n",
       "      <td>47.000000</td>\n",
       "      <td>64.652632</td>\n",
       "      <td>44.000000</td>\n",
       "      <td>30.333333</td>\n",
       "      <td>D</td>\n",
       "      <td>Yes</td>\n",
       "    </tr>\n",
       "    <tr>\n",
       "      <th>4</th>\n",
       "      <td>5.000000</td>\n",
       "      <td>India</td>\n",
       "      <td>76.000000</td>\n",
       "      <td>78.000000</td>\n",
       "      <td>62.235955</td>\n",
       "      <td>51.333333</td>\n",
       "      <td>C</td>\n",
       "      <td>No</td>\n",
       "    </tr>\n",
       "  </tbody>\n",
       "</table>\n",
       "</div>"
      ],
      "text/plain": [
       "     Roll No NationalITy         WT      DSBDA         AI    Average Grade  \\\n",
       "0   1.000000       India  72.000000  72.000000  74.000000  72.666667     C   \n",
       "1   2.000000       Japan  69.000000  90.000000  62.235955  53.000000     B   \n",
       "2  50.479592         USA  61.164835  64.652632  62.235955  58.663265     D   \n",
       "3   4.000000       China  47.000000  64.652632  44.000000  30.333333     D   \n",
       "4   5.000000       India  76.000000  78.000000  62.235955  51.333333     C   \n",
       "\n",
       "    PG  \n",
       "0  Yes  \n",
       "1   No  \n",
       "2   No  \n",
       "3  Yes  \n",
       "4   No  "
      ]
     },
     "execution_count": 14,
     "metadata": {},
     "output_type": "execute_result"
    }
   ],
   "source": [
    "df.head()"
   ]
  },
  {
   "cell_type": "code",
   "execution_count": 16,
   "id": "64e5d6f8-b4e6-4dec-85b3-cf1bdf714c62",
   "metadata": {},
   "outputs": [
    {
     "name": "stdout",
     "output_type": "stream",
     "text": [
      "Initial Dataset Shape: (99, 8)\n",
      "\n",
      "Missing Values Before Cleaning:\n",
      " Roll No         1\n",
      "NationalITy     1\n",
      "WT              8\n",
      "DSBDA           4\n",
      "AI             10\n",
      "Average         1\n",
      "Grade           1\n",
      "PG              1\n",
      "dtype: int64\n"
     ]
    }
   ],
   "source": [
    "df = pd.read_csv(\"AcademicPerformance_New.csv\")\n",
    "print(\"Initial Dataset Shape:\", df.shape)\n",
    "print(\"\\nMissing Values Before Cleaning:\\n\", df.isnull().sum())"
   ]
  },
  {
   "cell_type": "code",
   "execution_count": 20,
   "id": "cdd1a1b6-f947-4c56-8473-65bcc07ac89f",
   "metadata": {},
   "outputs": [
    {
     "name": "stdout",
     "output_type": "stream",
     "text": [
      "\n",
      "Missing Values After Cleaning:\n",
      " Roll No        0\n",
      "NationalITy    0\n",
      "WT             0\n",
      "DSBDA          0\n",
      "AI             0\n",
      "Average        0\n",
      "Grade          0\n",
      "PG             0\n",
      "dtype: int64\n"
     ]
    }
   ],
   "source": [
    "# Step 1: Handle Missing Values\n",
    "# Fill missing values for numeric columns using mean\n",
    "numeric_cols = ['Roll No', 'WT', 'DSBDA', 'AI', 'Average']\n",
    "df[numeric_cols] = df[numeric_cols].apply(lambda col: col.fillna(col.mean()))\n",
    "# Fill missing values for categorical columns using mode\n",
    "categorical_cols = ['NationalITy', 'Grade', 'PG']\n",
    "for col in categorical_cols:\n",
    "    df[col] = df[col].fillna(df[col].mode()[0])\n",
    "print(\"\\nMissing Values After Cleaning:\\n\", df.isnull().sum())"
   ]
  },
  {
   "cell_type": "code",
   "execution_count": 22,
   "id": "390841c9-3d93-48bb-9f89-0ffe3448a6da",
   "metadata": {},
   "outputs": [
    {
     "name": "stdout",
     "output_type": "stream",
     "text": [
      "\n",
      "Number of Outliers Detected: 1\n",
      "Outlier Rows:\n",
      "     Roll No NationalITy    WT  DSBDA    AI  Average Grade   PG\n",
      "17     18.0      Rassia  18.0   32.0  28.0     26.0     D  Yes\n"
     ]
    }
   ],
   "source": [
    "# Step 2: Detect and Show Outliers (Z-Score)\n",
    "z_scores = np.abs(zscore(df[numeric_cols]))\n",
    "outlier_rows = (z_scores > 3).any(axis=1)\n",
    "outliers = df[outlier_rows]\n",
    "\n",
    "print(f\"\\nNumber of Outliers Detected: {outliers.shape[0]}\")\n",
    "print(\"Outlier Rows:\\n\", outliers)"
   ]
  },
  {
   "cell_type": "code",
   "execution_count": 24,
   "id": "0d0bb0e0-c632-46c3-b30c-57c1f86f1751",
   "metadata": {},
   "outputs": [
    {
     "name": "stdout",
     "output_type": "stream",
     "text": [
      "\n",
      "Dataset Shape After Removing Outliers: (98, 8)\n"
     ]
    }
   ],
   "source": [
    "# Step 3: Remove Outliers\n",
    "df_cleaned = df[~outlier_rows].copy()\n",
    "print(\"\\nDataset Shape After Removing Outliers:\", df_cleaned.shape)"
   ]
  },
  {
   "cell_type": "code",
   "execution_count": 26,
   "id": "695ec1ed-0fc3-4801-be24-6df87855d058",
   "metadata": {},
   "outputs": [
    {
     "name": "stdout",
     "output_type": "stream",
     "text": [
      "\n",
      "Performance Level Distribution:\n",
      " Performance_Level\n",
      "Medium    37\n",
      "Low       31\n",
      "High      30\n",
      "Name: count, dtype: int64\n"
     ]
    }
   ],
   "source": [
    "# Step 4: Binning with Labels\n",
    "bins = [0, 50, 70, 100]\n",
    "labels = ['Low', 'Medium', 'High']\n",
    "df_cleaned['Performance_Level'] = pd.cut(df_cleaned['Average'], bins=bins, labels=labels, include_lowest=True)\n",
    "\n",
    "print(\"\\nPerformance Level Distribution:\\n\", df_cleaned['Performance_Level'].value_counts())\n"
   ]
  },
  {
   "cell_type": "code",
   "execution_count": 28,
   "id": "6db7bf36-3a09-43ff-8da3-b7d8c1e3a90b",
   "metadata": {},
   "outputs": [
    {
     "data": {
      "image/png": "[encoded data removed]",
      "text/plain": [
       "<Figure size 1000x600 with 1 Axes>"
      ]
     },
     "metadata": {},
     "output_type": "display_data"
    }
   ],
   "source": [
    "# Step 5: Box Plot\n",
    "plt.figure(figsize=(10, 6))\n",
    "sns.boxplot(data=df_cleaned[numeric_cols])\n",
    "plt.title(\"Box Plot of Numeric Columns (After Cleaning)\")\n",
    "plt.xticks(rotation=45)\n",
    "plt.tight_layout()\n",
    "plt.show()"
   ]
  }
 ],
 "metadata": {
  "kernelspec": {
   "display_name": "Python [conda env:base] *",
   "language": "python",
   "name": "conda-base-py"
  },
  "language_info": {
   "codemirror_mode": {
    "name": "ipython",
    "version": 3
   },
   "file_extension": ".py",
   "mimetype": "text/x-python",
   "name": "python",
   "nbconvert_exporter": "python",
   "pygments_lexer": "ipython3",
   "version": "3.12.7"
  }
 },
 "nbformat": 4,
 "nbformat_minor": 5
}
