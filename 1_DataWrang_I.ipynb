{
 "cells": [
  {
   "cell_type": "code",
   "execution_count": 2,
   "id": "ae36aad4-09a1-461a-af38-c3d79613a816",
   "metadata": {},
   "outputs": [],
   "source": [
    "import pandas as pd"
   ]
  },
  {
   "cell_type": "code",
   "execution_count": 4,
   "id": "28418cb6-e1b3-4247-be02-18c24be61bfd",
   "metadata": {},
   "outputs": [],
   "source": [
    "import numpy as np"
   ]
  },
  {
   "cell_type": "code",
   "execution_count": 8,
   "id": "05a1c49f-90d0-4144-bbda-39de88b5bc5d",
   "metadata": {},
   "outputs": [],
   "source": [
    "import matplotlib.pyplot as plt"
   ]
  },
  {
   "cell_type": "code",
   "execution_count": 10,
   "id": "8e3d94df-bfd2-41e2-8d64-981366485b2e",
   "metadata": {},
   "outputs": [],
   "source": [
    "import seaborn as sns"
   ]
  },
  {
   "cell_type": "code",
   "execution_count": 12,
   "id": "21300d21-d0b7-48bd-b25d-4442d3fc5395",
   "metadata": {},
   "outputs": [],
   "source": [
    "df = pd.read_csv(\"Employee.csv\")"
   ]
  },
  {
   "cell_type": "code",
   "execution_count": 14,
   "id": "b119e2f2-b114-4900-baad-456dc3cbe4a8",
   "metadata": {},
   "outputs": [
    {
     "name": "stdout",
     "output_type": "stream",
     "text": [
      "   Education  JoiningYear       City  PaymentTier  Age  Gender EverBenched  \\\n",
      "0  Bachelors         2017  Bangalore            3   34    Male          No   \n",
      "1  Bachelors         2013       Pune            1   28  Female          No   \n",
      "2  Bachelors         2014  New Delhi            3   38  Female          No   \n",
      "3    Masters         2016  Bangalore            3   27    Male          No   \n",
      "4    Masters         2017       Pune            3   24    Male         Yes   \n",
      "\n",
      "   ExperienceInCurrentDomain  LeaveOrNot  \n",
      "0                          0           0  \n",
      "1                          3           1  \n",
      "2                          2           0  \n",
      "3                          5           1  \n",
      "4                          2           1  \n"
     ]
    }
   ],
   "source": [
    "# Display first few rows\n",
    "print(df.head())"
   ]
  },
  {
   "cell_type": "code",
   "execution_count": 16,
   "id": "10d6e3ca-5bf4-42d4-84d1-57e22dc9f2ef",
   "metadata": {},
   "outputs": [
    {
     "name": "stdout",
     "output_type": "stream",
     "text": [
      "\n",
      "Missing values in each column:\n",
      "Education                    0\n",
      "JoiningYear                  0\n",
      "City                         0\n",
      "PaymentTier                  0\n",
      "Age                          0\n",
      "Gender                       0\n",
      "EverBenched                  0\n",
      "ExperienceInCurrentDomain    0\n",
      "LeaveOrNot                   0\n",
      "dtype: int64\n"
     ]
    }
   ],
   "source": [
    "print(\"\\nMissing values in each column:\")\n",
    "print(df.isnull().sum())"
   ]
  },
  {
   "cell_type": "code",
   "execution_count": 18,
   "id": "4626e04c-35ed-4639-a090-57a45753bfeb",
   "metadata": {},
   "outputs": [
    {
     "name": "stdout",
     "output_type": "stream",
     "text": [
      "\n",
      "Statistical summary:\n",
      "        Education  JoiningYear       City  PaymentTier          Age Gender  \\\n",
      "count        4653  4653.000000       4653  4653.000000  4653.000000   4653   \n",
      "unique          3          NaN          3          NaN          NaN      2   \n",
      "top     Bachelors          NaN  Bangalore          NaN          NaN   Male   \n",
      "freq         3601          NaN       2228          NaN          NaN   2778   \n",
      "mean          NaN  2015.062970        NaN     2.698259    29.393295    NaN   \n",
      "std           NaN     1.863377        NaN     0.561435     4.826087    NaN   \n",
      "min           NaN  2012.000000        NaN     1.000000    22.000000    NaN   \n",
      "25%           NaN  2013.000000        NaN     3.000000    26.000000    NaN   \n",
      "50%           NaN  2015.000000        NaN     3.000000    28.000000    NaN   \n",
      "75%           NaN  2017.000000        NaN     3.000000    32.000000    NaN   \n",
      "max           NaN  2018.000000        NaN     3.000000    41.000000    NaN   \n",
      "\n",
      "       EverBenched  ExperienceInCurrentDomain   LeaveOrNot  \n",
      "count         4653                4653.000000  4653.000000  \n",
      "unique           2                        NaN          NaN  \n",
      "top             No                        NaN          NaN  \n",
      "freq          4175                        NaN          NaN  \n",
      "mean           NaN                   2.905652     0.343864  \n",
      "std            NaN                   1.558240     0.475047  \n",
      "min            NaN                   0.000000     0.000000  \n",
      "25%            NaN                   2.000000     0.000000  \n",
      "50%            NaN                   3.000000     0.000000  \n",
      "75%            NaN                   4.000000     1.000000  \n",
      "max            NaN                   7.000000     1.000000  \n"
     ]
    }
   ],
   "source": [
    "print(\"\\nStatistical summary:\")\n",
    "print(df.describe(include='all'))"
   ]
  },
  {
   "cell_type": "code",
   "execution_count": 20,
   "id": "50d3d65f-e388-49b7-80b7-9cf60ffeb043",
   "metadata": {},
   "outputs": [
    {
     "name": "stdout",
     "output_type": "stream",
     "text": [
      "\n",
      "Dimensions of the DataFrame:\n",
      "(4653, 9)\n"
     ]
    }
   ],
   "source": [
    "print(\"\\nDimensions of the DataFrame:\")\n",
    "print(df.shape)"
   ]
  },
  {
   "cell_type": "code",
   "execution_count": 22,
   "id": "18ebe7b6-b09c-4ec4-a5c1-bdf339269289",
   "metadata": {},
   "outputs": [
    {
     "name": "stdout",
     "output_type": "stream",
     "text": [
      "\n",
      "Column names and data types:\n",
      "Education                    object\n",
      "JoiningYear                   int64\n",
      "City                         object\n",
      "PaymentTier                   int64\n",
      "Age                           int64\n",
      "Gender                       object\n",
      "EverBenched                  object\n",
      "ExperienceInCurrentDomain     int64\n",
      "LeaveOrNot                    int64\n",
      "dtype: object\n"
     ]
    }
   ],
   "source": [
    "print(\"\\nColumn names and data types:\")\n",
    "print(df.dtypes)"
   ]
  },
  {
   "cell_type": "code",
   "execution_count": 26,
   "id": "adf9918c-b631-4543-b066-af29f7ac3f2b",
   "metadata": {},
   "outputs": [],
   "source": [
    "# Convert 'object' type columns to 'category' where appropriate\n",
    "for col in df.select_dtypes(include='object').columns:\n",
    "    df[col] = df[col].astype('category')"
   ]
  },
  {
   "cell_type": "code",
   "execution_count": 28,
   "id": "50f70b49-417e-4510-9c56-f5c0050f0b1d",
   "metadata": {},
   "outputs": [
    {
     "data": {
      "text/plain": [
       "Education                    category\n",
       "JoiningYear                     int64\n",
       "City                         category\n",
       "PaymentTier                     int64\n",
       "Age                             int64\n",
       "Gender                       category\n",
       "EverBenched                  category\n",
       "ExperienceInCurrentDomain       int64\n",
       "LeaveOrNot                      int64\n",
       "dtype: object"
      ]
     },
     "execution_count": 28,
     "metadata": {},
     "output_type": "execute_result"
    }
   ],
   "source": [
    "# Verify data types after conversion\n",
    "df.dtypes"
   ]
  },
  {
   "cell_type": "code",
   "execution_count": 34,
   "id": "e44142e3-aea8-4a1b-8585-6413882623b9",
   "metadata": {},
   "outputs": [],
   "source": [
    "# Z-Score normalization for the 'Age' column\n",
    "# Z = (value - mean) / standard deviation\n",
    "df['Age_Z'] = (df['Age'] - df['Age'].mean()) / df['Age'].std()"
   ]
  },
  {
   "cell_type": "code",
   "execution_count": 36,
   "id": "4d6e87be-6406-41d8-a543-a215199625b7",
   "metadata": {},
   "outputs": [
    {
     "data": {
      "image/png": "[encoded data removed]",
      "text/plain": [
       "<Figure size 600x400 with 1 Axes>"
      ]
     },
     "metadata": {},
     "output_type": "display_data"
    }
   ],
   "source": [
    "# Plotting the normalized 'Age' column using a boxplot\n",
    "plt.figure(figsize=(6, 4))\n",
    "sns.boxplot(x=df['Age_Z'])  # Boxplot of the normalized Age\n",
    "plt.title(\"Boxplot of Z-Score Normalized Age\")\n",
    "plt.xlabel(\"Z-Score of Age\")\n",
    "plt.show()"
   ]
  },
  {
   "cell_type": "code",
   "execution_count": 38,
   "id": "784c81e8-cc8d-4ca9-8296-4da1e7a57a57",
   "metadata": {},
   "outputs": [],
   "source": [
    "# Columns to encode: 'Education', 'City', 'Gender', 'EverBenched'\n",
    "# drop_first=True removes one dummy variable to avoid multicollinearity (dummy variable trap)\n",
    "\n",
    "df_encoded = pd.get_dummies(\n",
    "    df,\n",
    "    columns=['Education', 'City', 'Gender', 'EverBenched'],\n",
    "    drop_first=True\n",
    ")"
   ]
  },
  {
   "cell_type": "code",
   "execution_count": 40,
   "id": "1900a8dd-3b6a-4780-ba39-716b805005c0",
   "metadata": {},
   "outputs": [
    {
     "data": {
      "text/html": [
       "<div>\n",
       "<style scoped>\n",
       "    .dataframe tbody tr th:only-of-type {\n",
       "        vertical-align: middle;\n",
       "    }\n",
       "\n",
       "    .dataframe tbody tr th {\n",
       "        vertical-align: top;\n",
       "    }\n",
       "\n",
       "    .dataframe thead th {\n",
       "        text-align: right;\n",
       "    }\n",
       "</style>\n",
       "<table border=\"1\" class=\"dataframe\">\n",
       "  <thead>\n",
       "    <tr style=\"text-align: right;\">\n",
       "      <th></th>\n",
       "      <th>JoiningYear</th>\n",
       "      <th>PaymentTier</th>\n",
       "      <th>Age</th>\n",
       "      <th>ExperienceInCurrentDomain</th>\n",
       "      <th>LeaveOrNot</th>\n",
       "      <th>Age_Z</th>\n",
       "      <th>Education_Masters</th>\n",
       "      <th>Education_PHD</th>\n",
       "      <th>City_New Delhi</th>\n",
       "      <th>City_Pune</th>\n",
       "      <th>Gender_Male</th>\n",
       "      <th>EverBenched_Yes</th>\n",
       "    </tr>\n",
       "  </thead>\n",
       "  <tbody>\n",
       "    <tr>\n",
       "      <th>0</th>\n",
       "      <td>2017</td>\n",
       "      <td>3</td>\n",
       "      <td>34</td>\n",
       "      <td>0</td>\n",
       "      <td>0</td>\n",
       "      <td>0.954543</td>\n",
       "      <td>False</td>\n",
       "      <td>False</td>\n",
       "      <td>False</td>\n",
       "      <td>False</td>\n",
       "      <td>True</td>\n",
       "      <td>False</td>\n",
       "    </tr>\n",
       "    <tr>\n",
       "      <th>1</th>\n",
       "      <td>2013</td>\n",
       "      <td>1</td>\n",
       "      <td>28</td>\n",
       "      <td>3</td>\n",
       "      <td>1</td>\n",
       "      <td>-0.288701</td>\n",
       "      <td>False</td>\n",
       "      <td>False</td>\n",
       "      <td>False</td>\n",
       "      <td>True</td>\n",
       "      <td>False</td>\n",
       "      <td>False</td>\n",
       "    </tr>\n",
       "    <tr>\n",
       "      <th>2</th>\n",
       "      <td>2014</td>\n",
       "      <td>3</td>\n",
       "      <td>38</td>\n",
       "      <td>2</td>\n",
       "      <td>0</td>\n",
       "      <td>1.783371</td>\n",
       "      <td>False</td>\n",
       "      <td>False</td>\n",
       "      <td>True</td>\n",
       "      <td>False</td>\n",
       "      <td>False</td>\n",
       "      <td>False</td>\n",
       "    </tr>\n",
       "    <tr>\n",
       "      <th>3</th>\n",
       "      <td>2016</td>\n",
       "      <td>3</td>\n",
       "      <td>27</td>\n",
       "      <td>5</td>\n",
       "      <td>1</td>\n",
       "      <td>-0.495908</td>\n",
       "      <td>True</td>\n",
       "      <td>False</td>\n",
       "      <td>False</td>\n",
       "      <td>False</td>\n",
       "      <td>True</td>\n",
       "      <td>False</td>\n",
       "    </tr>\n",
       "    <tr>\n",
       "      <th>4</th>\n",
       "      <td>2017</td>\n",
       "      <td>3</td>\n",
       "      <td>24</td>\n",
       "      <td>2</td>\n",
       "      <td>1</td>\n",
       "      <td>-1.117530</td>\n",
       "      <td>True</td>\n",
       "      <td>False</td>\n",
       "      <td>False</td>\n",
       "      <td>True</td>\n",
       "      <td>True</td>\n",
       "      <td>True</td>\n",
       "    </tr>\n",
       "  </tbody>\n",
       "</table>\n",
       "</div>"
      ],
      "text/plain": [
       "   JoiningYear  PaymentTier  Age  ExperienceInCurrentDomain  LeaveOrNot  \\\n",
       "0         2017            3   34                          0           0   \n",
       "1         2013            1   28                          3           1   \n",
       "2         2014            3   38                          2           0   \n",
       "3         2016            3   27                          5           1   \n",
       "4         2017            3   24                          2           1   \n",
       "\n",
       "      Age_Z  Education_Masters  Education_PHD  City_New Delhi  City_Pune  \\\n",
       "0  0.954543              False          False           False      False   \n",
       "1 -0.288701              False          False           False       True   \n",
       "2  1.783371              False          False            True      False   \n",
       "3 -0.495908               True          False           False      False   \n",
       "4 -1.117530               True          False           False       True   \n",
       "\n",
       "   Gender_Male  EverBenched_Yes  \n",
       "0         True            False  \n",
       "1        False            False  \n",
       "2        False            False  \n",
       "3         True            False  \n",
       "4         True             True  "
      ]
     },
     "execution_count": 40,
     "metadata": {},
     "output_type": "execute_result"
    }
   ],
   "source": [
    "# Display the first 5 rows of the new encoded DataFrame\n",
    "df_encoded.head()"
   ]
  },
  {
   "cell_type": "code",
   "execution_count": null,
   "id": "7cb12153-050b-4cfc-a44d-8f9feb625a56",
   "metadata": {},
   "outputs": [],
   "source": []
  }
 ],
 "metadata": {
  "kernelspec": {
   "display_name": "Python [conda env:base] *",
   "language": "python",
   "name": "conda-base-py"
  },
  "language_info": {
   "codemirror_mode": {
    "name": "ipython",
    "version": 3
   },
   "file_extension": ".py",
   "mimetype": "text/x-python",
   "name": "python",
   "nbconvert_exporter": "python",
   "pygments_lexer": "ipython3",
   "version": "3.12.7"
  }
 },
 "nbformat": 4,
 "nbformat_minor": 5
}
